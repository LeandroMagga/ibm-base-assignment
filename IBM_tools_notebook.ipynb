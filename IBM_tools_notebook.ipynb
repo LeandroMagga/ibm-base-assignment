{
 "cells": [
  {
   "cell_type": "markdown",
   "id": "80c6c948",
   "metadata": {},
   "source": [
    "# My Jupyter Notebook on Watson Studio"
   ]
  },
  {
   "cell_type": "markdown",
   "id": "32269e12",
   "metadata": {},
   "source": [
    "**Leandro Magga Emanuele**\n",
    "\n",
    "Data Scientist"
   ]
  },
  {
   "cell_type": "markdown",
   "id": "784408fa",
   "metadata": {},
   "source": [
    "_I am interested in data sciece because it provides the tools and knowledge to find solutions to complex problems by analizing measurements about our world._"
   ]
  },
  {
   "cell_type": "markdown",
   "id": "af84101c",
   "metadata": {},
   "source": [
    "### The following simple code computes 1+1"
   ]
  },
  {
   "cell_type": "code",
   "execution_count": 1,
   "id": "96047d4b",
   "metadata": {},
   "outputs": [
    {
     "data": {
      "text/plain": [
       "2"
      ]
     },
     "execution_count": 1,
     "metadata": {},
     "output_type": "execute_result"
    }
   ],
   "source": [
    "1 + 1"
   ]
  },
  {
   "cell_type": "markdown",
   "id": "7cd7a43a",
   "metadata": {},
   "source": [
    "***\n",
    "\n",
    "Bullet List:\n",
    "- Watermelon.\n",
    "- Pineaple.\n",
    "- Orange.\n",
    "\n",
    "Numbered List:\n",
    "1. Water.\n",
    "2. Milk.\n",
    "3. Ice cream.\n",
    "\n",
    "> This is a quote which I wrote.\n",
    "\n",
    "For more information about data science you can see [Wikipedia](https://en.wikipedia.org/wiki/Data_science). \n",
    "\n",
    "Table:\n",
    "\n",
    "| Name      | Last Name  | Age  | \n",
    "|-----------|------------|------|\n",
    "|Leandro    |Magga       |25    |\n",
    "|John       |Doe         |52    |"
   ]
  }
 ],
 "metadata": {
  "kernelspec": {
   "display_name": "Python 3 (ipykernel)",
   "language": "python",
   "name": "python3"
  },
  "language_info": {
   "codemirror_mode": {
    "name": "ipython",
    "version": 3
   },
   "file_extension": ".py",
   "mimetype": "text/x-python",
   "name": "python",
   "nbconvert_exporter": "python",
   "pygments_lexer": "ipython3",
   "version": "3.8.8"
  }
 },
 "nbformat": 4,
 "nbformat_minor": 5
}
